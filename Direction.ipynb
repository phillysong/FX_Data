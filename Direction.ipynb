{
 "cells": [
  {
   "cell_type": "code",
   "execution_count": 1,
   "metadata": {},
   "outputs": [],
   "source": [
    "import pandas as pd\n",
    "import numpy as np\n",
    "import sqlite3\n",
    "import matplotlib.pyplot as plt\n",
    "import datetime as dt\n",
    "from datetime import date, timedelta\n",
    "\n",
    "import time\n",
    "import matplotlib.dates as mdates\n",
    "from mpl_finance import candlestick_ohlc\n",
    "from matplotlib.ticker import FormatStrFormatter"
   ]
  },
  {
   "cell_type": "code",
   "execution_count": 2,
   "metadata": {},
   "outputs": [],
   "source": [
    "#2)Base Import\n",
    "datestack=pd.read_csv('A:\\Git\\FX_Data\\datestack.csv')\n",
    "datestack=datestack['Date'].apply(pd.to_datetime)\n",
    "\n",
    "def import_data(data_table):\n",
    "    conn=sqlite3.connect('A:\\Git\\Data\\FX_Data.db')\n",
    "    df=pd.read_sql_query(\"\"\"\n",
    "    SELECT * from {}\n",
    "    ORDER BY Time ASC;    \n",
    "    \"\"\".format(data_table),conn)\n",
    "    return df"
   ]
  },
  {
   "cell_type": "code",
   "execution_count": 3,
   "metadata": {},
   "outputs": [],
   "source": [
    "#Setting up initial 1 hr frame with 25 day rolling ADR\n",
    "h1=import_data('H1_EUR_USD')\n",
    "h1['Time']=pd.to_datetime(h1['Time'])\n",
    "#appending grouped daily columns as well\n",
    "h1['Daily']=pd.to_datetime(h1['Time'].apply(lambda x: '{}-{}-{}'.format(x.year,x.month,x.day)))\n",
    "\n",
    "#Daily frame\n",
    "d1=pd.DataFrame()\n",
    "d1=pd.DataFrame(data=h1['Daily']).drop_duplicates().reset_index(drop=True)\n",
    "d1['Open']=h1.groupby(['Daily']).Open.first().rename('temp').reset_index(drop=True)\n",
    "d1['High']=h1.groupby(['Daily']).High.max().rename('temp').reset_index(drop=True)\n",
    "d1['Low']=h1.groupby(['Daily']).Low.min().rename('temp').reset_index(drop=True)\n",
    "d1['Close']=h1.groupby(['Daily']).Close.last().rename('temp').reset_index(drop=True)\n",
    "\n",
    "#creating ADR\n",
    "d1['Range']=d1.High-d1.Low\n",
    "d1['ADR']=d1['Range'].rolling(25).mean().shift(1)\n",
    "d1['ADR_min']=round(d1['ADR']/2,5)\n",
    "\n",
    "#add daily ADR to hourly df\n",
    "h1=pd.merge(h1,d1[['Daily','ADR','ADR_min']],on='Daily')"
   ]
  },
  {
   "cell_type": "code",
   "execution_count": 4,
   "metadata": {},
   "outputs": [],
   "source": [
    "#to view in Excel\n",
    "def export(base_df,name):\n",
    "    writer = pd.ExcelWriter('A:\\Git\\FX_Data\\Excel_Exports\\swing_extract{}.xlsx'.format(name))\n",
    "    base_df.to_excel(writer, index=False, sheet_name='extract')\n",
    "    writer.save()\n",
    "        \n",
    "#classifying waves        \n",
    "def TESF(df):\n",
    "    #Get TESF for all swings\n",
    "    for i in df.index:\n",
    "        #exclude the first couple swings\n",
    "        if i>3:\n",
    "            p1=df.loc[i-3,\"Swing_Price\"]\n",
    "            p2=df.loc[i-2,\"Swing_Price\"]\n",
    "            p3=df.loc[i-1,\"Swing_Price\"]\n",
    "            p4=df.loc[i,\"Swing_Price\"]\n",
    "            if p4>=p2>=p3>=p1:\n",
    "                swing_type=\"T\"\n",
    "            elif p2>=p4>=p3>=p1:\n",
    "                swing_type=\"F\"\n",
    "            elif p4>=p2>=p1>=p3:\n",
    "                swing_type=\"E\"\n",
    "            elif p2>p1>p3 and p2>p4>p3:\n",
    "                swing_type=\"S\"\n",
    "            elif p1>=p3>=p2>=p4:\n",
    "                swing_type=\"T\"\n",
    "            elif p1>=p3>=p4>=p2:\n",
    "                swing_type=\"F\"\n",
    "            elif p3>=p1>=p2>=p4:\n",
    "                swing_type=\"E\"\n",
    "            elif p3>p1>p2 and p3>p4>p2:\n",
    "                swing_type=\"S\"\n",
    "            else:\n",
    "                swing_type=\"??\"\n",
    "            df.loc[i,\"Swing_Type\"]=swing_type\n",
    "    return df\n",
    "\n",
    "#Extra Functions\n",
    "def retracement(H,L,P):\n",
    "    if (H-L)==0:return 0\n",
    "    R=(P-L)/(H-L)\n",
    "    return R\n",
    "\n",
    "def calc_retracement(df):\n",
    "    #only takes a df that has only TESF swings\n",
    "    # work_swings=all_swings\n",
    "    for i in range(2,len(df)):\n",
    "        if df.loc[i,'Fractal']==\"T\":\n",
    "            a=df.loc[df.loc[i-2,'id'],'High']\n",
    "            b=df.loc[df.loc[i-1,'id'],'Low']\n",
    "            c=df.loc[df.loc[i,'id'],'High']\n",
    "            df.loc[i,'Retracement']=retracement(a,b,c)\n",
    "        elif df.loc[i,'Fractal']==\"B\":\n",
    "            a=df.loc[df.loc[i-2,'id'],'Low']\n",
    "            b=df.loc[df.loc[i-1,'id'],'High']\n",
    "            c=df.loc[df.loc[i,'id'],'Low']\n",
    "            df.loc[i,'Retracement']=retracement(a,b,c)                        \n",
    "    return df"
   ]
  },
  {
   "cell_type": "code",
   "execution_count": 5,
   "metadata": {},
   "outputs": [],
   "source": [
    "def find_first_direction(row_number,df):\n",
    "    direction = None\n",
    "    for i in range(row_number,len(df)-1):\n",
    "        max_current_range=df.loc[row_number:i,'High'].max()-df.loc[row_number:i,'Low'].min()\n",
    "        if direction == 'up' or direction == 'down':\n",
    "            break\n",
    "        elif max_current_range>=df.loc[i,'ADR_min']:\n",
    "            if df.loc[i,'High'] == df.loc[row_number:i,'High'].max():\n",
    "                direction = 'up'\n",
    "                row_return=i\n",
    "                break\n",
    "            if  df.loc[i,'Low'] == df.loc[row_number:i,'Low'].min():\n",
    "                direction = 'down'\n",
    "                row_return=i\n",
    "                break\n",
    "            else:\n",
    "                print('error')\n",
    "    print(df.loc[i,'Time'])\n",
    "    return direction,row_return"
   ]
  },
  {
   "cell_type": "code",
   "execution_count": 6,
   "metadata": {},
   "outputs": [],
   "source": [
    "def find_next_low(row_number,df):\n",
    "    direction,max_high,iterator = 'up',0,0\n",
    "    moving_row_number=row_number\n",
    "    while iterator <= len(df)-1:\n",
    "        if direction == 'down':\n",
    "            break\n",
    "\n",
    "        for i in range(moving_row_number,len(df)):\n",
    "            iterator=i\n",
    "            max_current_range=df.loc[moving_row_number:i,'High'].max()-df.loc[moving_row_number:i,'Low'].min()\n",
    "            if direction == 'down':\n",
    "                break\n",
    "\n",
    "            elif max_current_range>=df.loc[i,'ADR_min']:\n",
    "                if (df.loc[moving_row_number:i,'High'].idxmax() > df.loc[moving_row_number:i,'Low'].idxmin()):\n",
    "                    moving_row_number=i\n",
    "                    break\n",
    "                elif (df.loc[moving_row_number:i,'Low'].idxmin()>df.loc[moving_row_number:i,'High'].idxmax()):\n",
    "                    direction = 'down'\n",
    "                    max_high=df.loc[moving_row_number:i,'High'].idxmax()\n",
    "                    row_return=i\n",
    "                    break\n",
    "\n",
    "            elif i >= (len(df)-1):\n",
    "                direction = 'down'\n",
    "                max_high=df.loc[row_number:row_number+i,'Low'].idxmin()\n",
    "                row_return=(len(df)-1)\n",
    "                break\n",
    "    if iterator >= len(df)-1:\n",
    "        row_return = moving_row_number+iterator\n",
    "    return direction,max_high,row_return\n",
    "\n",
    "def find_next_high(row_number,df):\n",
    "    direction,min_low,iterator = 'down',0,0\n",
    "    moving_row_number=row_number\n",
    "    while iterator < len(df)-1:\n",
    "        if direction == 'up':\n",
    "            break\n",
    "        for i in range(moving_row_number,len(df)):\n",
    "            iterator=i\n",
    "            max_current_range=df.loc[moving_row_number:i,'High'].max()-df.loc[moving_row_number:i,'Low'].min()            \n",
    "            if direction == 'up':\n",
    "                break\n",
    "                \n",
    "            elif max_current_range>=df.loc[i,'ADR_min']:\n",
    "                if (df.loc[moving_row_number:i,'Low'].idxmin() > df.loc[moving_row_number:i,'High'].idxmax()):\n",
    "                    moving_row_number=i\n",
    "                    break\n",
    "                elif (df.loc[moving_row_number:i,'High'].idxmax()>df.loc[moving_row_number:i,'Low'].idxmin()):\n",
    "                    direction = 'up'\n",
    "                    min_low=df.loc[moving_row_number:i,'Low'].idxmin()\n",
    "                    row_return=i\n",
    "                    break\n",
    "\n",
    "            elif i >= (len(df)-1):\n",
    "                direction = 'up'\n",
    "                min_low=df.loc[row_number:row_number+i,'High'].idxmax()\n",
    "                row_return=(len(df)-1)\n",
    "                break\n",
    "    if iterator >= len(df)-1:\n",
    "        row_return = moving_row_number+iterator\n",
    "    return direction,min_low,row_return"
   ]
  },
  {
   "cell_type": "code",
   "execution_count": 7,
   "metadata": {},
   "outputs": [],
   "source": [
    "#creating the waves\n",
    "def adr_waves(df):\n",
    "    #finds the initial direction and the rest of the data points (in rows) and appends them to a list\n",
    "    df=df.dropna().reset_index(drop=True)\n",
    "    status=None\n",
    "    last_row=len(df)-1\n",
    "    init_direction,next_insert_row=find_first_direction(1,df)\n",
    "    print(f'initial direction is {init_direction}')\n",
    "    if init_direction =='up':\n",
    "        direction,extreme,next_insert_row=find_next_low(next_insert_row,df)\n",
    "        e_list=[extreme]\n",
    "    elif init_direction == 'down':\n",
    "        direction,extreme,next_insert_row=find_next_high(next_insert_row,df)\n",
    "        e_list=[extreme]\n",
    "    while next_insert_row <= last_row:\n",
    "        if direction =='down':\n",
    "            direction,extreme,next_insert_row=find_next_high(next_insert_row,df)\n",
    "            e_list.append(extreme)\n",
    "            adr_wave_length_check(e_list)\n",
    "        if direction =='up':\n",
    "            direction,extreme,next_insert_row=find_next_low(next_insert_row,df)\n",
    "            e_list.append(extreme)\n",
    "            adr_wave_length_check(e_list)\n",
    "    else:\n",
    "        print('error with initial direction or waves are complete')\n",
    "    return e_list\n",
    "        \n",
    "def adr_wave_length_check(e_list):\n",
    "    #just printing periodically while running the ADR wave iteration\n",
    "    #so we know it's working and have an idea of how far along it is\n",
    "    if len(e_list) % 150 == 0:\n",
    "        print('current length is: {}, ts {}'.format(len(e_list), h1.loc[e_list[-1:],'Time']))\n",
    "    return None"
   ]
  },
  {
   "cell_type": "code",
   "execution_count": 8,
   "metadata": {},
   "outputs": [
    {
     "name": "stdout",
     "output_type": "stream",
     "text": [
      "2015-02-09 14:00:00\n",
      "initial direction is down\n",
      "current length is: 150, ts 2647   2015-07-13 09:00:00\n",
      "Name: Time, dtype: datetime64[ns]\n",
      "current length is: 300, ts 5592   2016-01-05 03:00:00\n",
      "Name: Time, dtype: datetime64[ns]\n",
      "current length is: 450, ts 8524   2016-06-24 10:00:00\n",
      "Name: Time, dtype: datetime64[ns]\n",
      "current length is: 600, ts 11159   2016-11-28 04:00:00\n",
      "Name: Time, dtype: datetime64[ns]\n",
      "current length is: 750, ts 13895   2017-05-08 09:00:00\n",
      "Name: Time, dtype: datetime64[ns]\n",
      "current length is: 900, ts 16892   2017-10-30 13:00:00\n",
      "Name: Time, dtype: datetime64[ns]\n",
      "current length is: 1050, ts 19530   2018-04-04 11:00:00\n",
      "Name: Time, dtype: datetime64[ns]\n",
      "current length is: 1200, ts 21947   2018-08-16 16:00:00\n",
      "Name: Time, dtype: datetime64[ns]\n",
      "current length is: 1350, ts 24380   2018-12-13 21:00:00\n",
      "Name: Time, dtype: datetime64[ns]\n",
      "current length is: 1500, ts 26270   2019-04-05 15:00:00\n",
      "Name: Time, dtype: datetime64[ns]\n",
      "error with initial direction or waves are complete\n"
     ]
    },
    {
     "data": {
      "text/plain": [
       "[14, 21, 37, 106, 140, 157, 187, 203, 231, 235]"
      ]
     },
     "execution_count": 8,
     "metadata": {},
     "output_type": "execute_result"
    }
   ],
   "source": [
    "h1=h1.dropna().reset_index(drop=True)\n",
    "wave_list=adr_waves(h1)\n",
    "wave_list[0:10]"
   ]
  },
  {
   "cell_type": "code",
   "execution_count": 9,
   "metadata": {},
   "outputs": [],
   "source": [
    "waves=h1.copy()\n",
    "for index, row_number in enumerate(wave_list):\n",
    "    #Because the initial direction is down, and the starting index is 0,\n",
    "    #even indexes are all down moves and odd indexes are all up moves\n",
    "    if index % 2 == 0:\n",
    "        waves.loc[row_number,'Fractal']='D'\n",
    "        waves.loc[row_number,'Swing_Price']=h1.loc[row_number,'Low']\n",
    "    elif index % 2 !=0:\n",
    "        waves.loc[row_number,'Fractal']='U'\n",
    "        waves.loc[row_number,'Swing_Price']=h1.loc[row_number,'High']"
   ]
  },
  {
   "cell_type": "code",
   "execution_count": 10,
   "metadata": {},
   "outputs": [
    {
     "data": {
      "text/html": [
       "<div>\n",
       "<style scoped>\n",
       "    .dataframe tbody tr th:only-of-type {\n",
       "        vertical-align: middle;\n",
       "    }\n",
       "\n",
       "    .dataframe tbody tr th {\n",
       "        vertical-align: top;\n",
       "    }\n",
       "\n",
       "    .dataframe thead th {\n",
       "        text-align: right;\n",
       "    }\n",
       "</style>\n",
       "<table border=\"1\" class=\"dataframe\">\n",
       "  <thead>\n",
       "    <tr style=\"text-align: right;\">\n",
       "      <th></th>\n",
       "      <th>Time</th>\n",
       "      <th>Open</th>\n",
       "      <th>High</th>\n",
       "      <th>Low</th>\n",
       "      <th>Close</th>\n",
       "      <th>Daily</th>\n",
       "      <th>ADR</th>\n",
       "      <th>ADR_min</th>\n",
       "      <th>Fractal</th>\n",
       "      <th>Swing_Price</th>\n",
       "      <th>Swing_Type</th>\n",
       "    </tr>\n",
       "  </thead>\n",
       "  <tbody>\n",
       "    <tr>\n",
       "      <th>0</th>\n",
       "      <td>2015-02-16 20:00:00</td>\n",
       "      <td>1.13565</td>\n",
       "      <td>1.13592</td>\n",
       "      <td>1.13188</td>\n",
       "      <td>1.13304</td>\n",
       "      <td>2015-02-16</td>\n",
       "      <td>0.014157</td>\n",
       "      <td>0.00708</td>\n",
       "      <td>D</td>\n",
       "      <td>1.13188</td>\n",
       "      <td>S</td>\n",
       "    </tr>\n",
       "    <tr>\n",
       "      <th>1</th>\n",
       "      <td>2015-02-17 13:00:00</td>\n",
       "      <td>1.14052</td>\n",
       "      <td>1.14484</td>\n",
       "      <td>1.14051</td>\n",
       "      <td>1.14384</td>\n",
       "      <td>2015-02-17</td>\n",
       "      <td>0.014256</td>\n",
       "      <td>0.00713</td>\n",
       "      <td>U</td>\n",
       "      <td>1.14484</td>\n",
       "      <td>T</td>\n",
       "    </tr>\n",
       "    <tr>\n",
       "      <th>2</th>\n",
       "      <td>2015-02-18 19:00:00</td>\n",
       "      <td>1.13405</td>\n",
       "      <td>1.13460</td>\n",
       "      <td>1.13333</td>\n",
       "      <td>1.13421</td>\n",
       "      <td>2015-02-18</td>\n",
       "      <td>0.014339</td>\n",
       "      <td>0.00717</td>\n",
       "      <td>D</td>\n",
       "      <td>1.13333</td>\n",
       "      <td>S</td>\n",
       "    </tr>\n",
       "    <tr>\n",
       "      <th>3</th>\n",
       "      <td>2015-02-19 11:00:00</td>\n",
       "      <td>1.14321</td>\n",
       "      <td>1.14495</td>\n",
       "      <td>1.13928</td>\n",
       "      <td>1.13947</td>\n",
       "      <td>2015-02-19</td>\n",
       "      <td>0.014190</td>\n",
       "      <td>0.00710</td>\n",
       "      <td>U</td>\n",
       "      <td>1.14495</td>\n",
       "      <td>T</td>\n",
       "    </tr>\n",
       "    <tr>\n",
       "      <th>4</th>\n",
       "      <td>2015-02-20 15:00:00</td>\n",
       "      <td>1.13139</td>\n",
       "      <td>1.13159</td>\n",
       "      <td>1.12784</td>\n",
       "      <td>1.13121</td>\n",
       "      <td>2015-02-20</td>\n",
       "      <td>0.013666</td>\n",
       "      <td>0.00683</td>\n",
       "      <td>D</td>\n",
       "      <td>1.12784</td>\n",
       "      <td>E</td>\n",
       "    </tr>\n",
       "  </tbody>\n",
       "</table>\n",
       "</div>"
      ],
      "text/plain": [
       "                 Time     Open     High      Low    Close      Daily  \\\n",
       "0 2015-02-16 20:00:00  1.13565  1.13592  1.13188  1.13304 2015-02-16   \n",
       "1 2015-02-17 13:00:00  1.14052  1.14484  1.14051  1.14384 2015-02-17   \n",
       "2 2015-02-18 19:00:00  1.13405  1.13460  1.13333  1.13421 2015-02-18   \n",
       "3 2015-02-19 11:00:00  1.14321  1.14495  1.13928  1.13947 2015-02-19   \n",
       "4 2015-02-20 15:00:00  1.13139  1.13159  1.12784  1.13121 2015-02-20   \n",
       "\n",
       "        ADR  ADR_min Fractal  Swing_Price Swing_Type  \n",
       "0  0.014157  0.00708       D      1.13188          S  \n",
       "1  0.014256  0.00713       U      1.14484          T  \n",
       "2  0.014339  0.00717       D      1.13333          S  \n",
       "3  0.014190  0.00710       U      1.14495          T  \n",
       "4  0.013666  0.00683       D      1.12784          E  "
      ]
     },
     "execution_count": 10,
     "metadata": {},
     "output_type": "execute_result"
    }
   ],
   "source": [
    "tesf_waves=waves.loc[waves['Swing_Price'].notnull()==True].reset_index(drop=True)\n",
    "#Drop the first faulty data point\n",
    "tesf_waves=tesf_waves[1:]\n",
    "#Create the Swing_Type column\n",
    "tesf_waves=TESF(tesf_waves)\n",
    "#cutting out the first 3 rows that don't have a swing type\n",
    "tesf_waves=tesf_waves[3:].reset_index(drop=True)\n",
    "tesf_waves.head(5)"
   ]
  },
  {
   "cell_type": "markdown",
   "metadata": {},
   "source": [
    "Frequency distribution of each swing type"
   ]
  },
  {
   "cell_type": "code",
   "execution_count": 11,
   "metadata": {},
   "outputs": [
    {
     "name": "stdout",
     "output_type": "stream",
     "text": [
      "T count: 33.52\n",
      "E count: 15.72\n",
      "S count: 33.46\n",
      "F count: 17.3\n"
     ]
    }
   ],
   "source": [
    "T_counts=tesf_waves.loc[tesf_waves['Swing_Type']=='T','Swing_Type'].count()\n",
    "E_counts=tesf_waves.loc[tesf_waves['Swing_Type']=='E','Swing_Type'].count()\n",
    "S_counts=tesf_waves.loc[tesf_waves['Swing_Type']=='S','Swing_Type'].count()\n",
    "F_counts=tesf_waves.loc[tesf_waves['Swing_Type']=='F','Swing_Type'].count()\n",
    "\n",
    "total_swing_count=T_counts+E_counts+S_counts+F_counts\n",
    "\n",
    "print('T count: {}'.format(round(T_counts/total_swing_count*100,2)))\n",
    "print('E count: {}'.format(round(E_counts/total_swing_count*100,2)))\n",
    "print('S count: {}'.format(round(S_counts/total_swing_count*100,2)))\n",
    "print('F count: {}'.format(round(F_counts/total_swing_count*100,2)))"
   ]
  },
  {
   "cell_type": "code",
   "execution_count": 12,
   "metadata": {},
   "outputs": [
    {
     "name": "stdout",
     "output_type": "stream",
     "text": [
      "{'TST': 206, 'TESFFT': 17, 'TEST': 88, 'TSFT': 99, 'TESFT': 40, 'TEESFT': 10, 'TSFFT': 25, 'TEEST': 21, 'TESFFFT': 1, 'TSFFFFFT': 1, 'TEEEST': 7, 'TSFFFT': 4, 'TEESFFT': 6, 'TFFT': 1, 'TEEEEST': 1, 'TEEESFFT': 1, 'TSFFFFT': 1, 'TT': 1}\n"
     ]
    }
   ],
   "source": [
    "temp_str_list=[str(i) for i in tesf_waves['Swing_Type'].tolist()]\n",
    "x=','.join(temp_str_list)\n",
    "split_list=x.split('T')\n",
    "\n",
    "wave_patterns=[]\n",
    "for i in split_list:\n",
    "    i=i.replace(',','')\n",
    "    if (\"?\" not in i) and ('nan' not in i):\n",
    "        wave_patterns.append('T{}T'.format(i))\n",
    "        \n",
    "wave_pattern_dict={}\n",
    "for i in wave_patterns:\n",
    "    try:\n",
    "        wave_pattern_dict[i]+=1\n",
    "    except KeyError as e:\n",
    "        wave_pattern_dict[i]=1\n",
    "print(wave_pattern_dict)"
   ]
  },
  {
   "cell_type": "markdown",
   "metadata": {},
   "source": [
    "Probability that a swing that starts with a Trend move (\"textbook ABC\") ends with a continuation in the same direction"
   ]
  },
  {
   "cell_type": "code",
   "execution_count": 13,
   "metadata": {},
   "outputs": [
    {
     "name": "stdout",
     "output_type": "stream",
     "text": [
      "continuation percentage: 56.79\n"
     ]
    },
    {
     "data": {
      "text/plain": [
       "{'C': 301, 'R': 229}"
      ]
     },
     "execution_count": 13,
     "metadata": {},
     "output_type": "execute_result"
    }
   ],
   "source": [
    "continuation_perc_dict={\n",
    "    'C':0,\n",
    "    'R':0\n",
    "}\n",
    "for pattern in wave_pattern_dict:\n",
    "    if len(pattern) % 2 == 0:\n",
    "        continuation_perc_dict['R']+=wave_pattern_dict[pattern]\n",
    "    elif len(pattern) % 2 != 0:\n",
    "        continuation_perc_dict['C']+=wave_pattern_dict[pattern]\n",
    "\n",
    "print('continuation percentage: {}'.format(round(continuation_perc_dict['C']/(continuation_perc_dict['C']+continuation_perc_dict['R'])*100,2)))\n",
    "continuation_perc_dict"
   ]
  },
  {
   "cell_type": "code",
   "execution_count": 14,
   "metadata": {},
   "outputs": [
    {
     "data": {
      "text/html": [
       "<div>\n",
       "<style scoped>\n",
       "    .dataframe tbody tr th:only-of-type {\n",
       "        vertical-align: middle;\n",
       "    }\n",
       "\n",
       "    .dataframe tbody tr th {\n",
       "        vertical-align: top;\n",
       "    }\n",
       "\n",
       "    .dataframe thead th {\n",
       "        text-align: right;\n",
       "    }\n",
       "</style>\n",
       "<table border=\"1\" class=\"dataframe\">\n",
       "  <thead>\n",
       "    <tr style=\"text-align: right;\">\n",
       "      <th></th>\n",
       "      <th>Time</th>\n",
       "      <th>Open</th>\n",
       "      <th>High</th>\n",
       "      <th>Low</th>\n",
       "      <th>Close</th>\n",
       "      <th>Daily</th>\n",
       "      <th>ADR</th>\n",
       "      <th>ADR_min</th>\n",
       "      <th>Fractal</th>\n",
       "      <th>Swing_Price</th>\n",
       "      <th>Swing_Type</th>\n",
       "    </tr>\n",
       "  </thead>\n",
       "  <tbody>\n",
       "    <tr>\n",
       "      <th>0</th>\n",
       "      <td>2015-02-16 20:00:00</td>\n",
       "      <td>1.13565</td>\n",
       "      <td>1.13592</td>\n",
       "      <td>1.13188</td>\n",
       "      <td>1.13304</td>\n",
       "      <td>2015-02-16</td>\n",
       "      <td>0.014157</td>\n",
       "      <td>0.00708</td>\n",
       "      <td>D</td>\n",
       "      <td>1.13188</td>\n",
       "      <td>S</td>\n",
       "    </tr>\n",
       "    <tr>\n",
       "      <th>1</th>\n",
       "      <td>2015-02-17 13:00:00</td>\n",
       "      <td>1.14052</td>\n",
       "      <td>1.14484</td>\n",
       "      <td>1.14051</td>\n",
       "      <td>1.14384</td>\n",
       "      <td>2015-02-17</td>\n",
       "      <td>0.014256</td>\n",
       "      <td>0.00713</td>\n",
       "      <td>U</td>\n",
       "      <td>1.14484</td>\n",
       "      <td>T</td>\n",
       "    </tr>\n",
       "    <tr>\n",
       "      <th>2</th>\n",
       "      <td>2015-02-18 19:00:00</td>\n",
       "      <td>1.13405</td>\n",
       "      <td>1.13460</td>\n",
       "      <td>1.13333</td>\n",
       "      <td>1.13421</td>\n",
       "      <td>2015-02-18</td>\n",
       "      <td>0.014339</td>\n",
       "      <td>0.00717</td>\n",
       "      <td>D</td>\n",
       "      <td>1.13333</td>\n",
       "      <td>S</td>\n",
       "    </tr>\n",
       "    <tr>\n",
       "      <th>3</th>\n",
       "      <td>2015-02-19 11:00:00</td>\n",
       "      <td>1.14321</td>\n",
       "      <td>1.14495</td>\n",
       "      <td>1.13928</td>\n",
       "      <td>1.13947</td>\n",
       "      <td>2015-02-19</td>\n",
       "      <td>0.014190</td>\n",
       "      <td>0.00710</td>\n",
       "      <td>U</td>\n",
       "      <td>1.14495</td>\n",
       "      <td>T</td>\n",
       "    </tr>\n",
       "    <tr>\n",
       "      <th>4</th>\n",
       "      <td>2015-02-20 15:00:00</td>\n",
       "      <td>1.13139</td>\n",
       "      <td>1.13159</td>\n",
       "      <td>1.12784</td>\n",
       "      <td>1.13121</td>\n",
       "      <td>2015-02-20</td>\n",
       "      <td>0.013666</td>\n",
       "      <td>0.00683</td>\n",
       "      <td>D</td>\n",
       "      <td>1.12784</td>\n",
       "      <td>E</td>\n",
       "    </tr>\n",
       "  </tbody>\n",
       "</table>\n",
       "</div>"
      ],
      "text/plain": [
       "                 Time     Open     High      Low    Close      Daily  \\\n",
       "0 2015-02-16 20:00:00  1.13565  1.13592  1.13188  1.13304 2015-02-16   \n",
       "1 2015-02-17 13:00:00  1.14052  1.14484  1.14051  1.14384 2015-02-17   \n",
       "2 2015-02-18 19:00:00  1.13405  1.13460  1.13333  1.13421 2015-02-18   \n",
       "3 2015-02-19 11:00:00  1.14321  1.14495  1.13928  1.13947 2015-02-19   \n",
       "4 2015-02-20 15:00:00  1.13139  1.13159  1.12784  1.13121 2015-02-20   \n",
       "\n",
       "        ADR  ADR_min Fractal  Swing_Price Swing_Type  \n",
       "0  0.014157  0.00708       D      1.13188          S  \n",
       "1  0.014256  0.00713       U      1.14484          T  \n",
       "2  0.014339  0.00717       D      1.13333          S  \n",
       "3  0.014190  0.00710       U      1.14495          T  \n",
       "4  0.013666  0.00683       D      1.12784          E  "
      ]
     },
     "execution_count": 14,
     "metadata": {},
     "output_type": "execute_result"
    }
   ],
   "source": [
    "tesf_waves.head()"
   ]
  },
  {
   "cell_type": "markdown",
   "metadata": {},
   "source": [
    "**How big is the average wave in terms of pips?**"
   ]
  },
  {
   "cell_type": "code",
   "execution_count": 15,
   "metadata": {},
   "outputs": [],
   "source": [
    "#Finding the difference\n",
    "tesf_waves['Swing_Difference']=tesf_waves['Swing_Price'].shift(-1)-tesf_waves['Swing_Price']\n",
    "#The column shows how big the swing is between the current row and the row before it\n",
    "tesf_waves['Swing_Difference']=tesf_waves['Swing_Difference'].shift(1)"
   ]
  },
  {
   "cell_type": "markdown",
   "metadata": {},
   "source": [
    "- Verifying the difference in swing length by type"
   ]
  },
  {
   "cell_type": "code",
   "execution_count": 16,
   "metadata": {},
   "outputs": [
    {
     "name": "stdout",
     "output_type": "stream",
     "text": [
      "Swing T: 0.01088\n",
      "Swing E: 0.01427\n",
      "Swing S: 0.00739\n",
      "Swing F: 0.00608\n"
     ]
    }
   ],
   "source": [
    "swing_types=['T','E','S','F']\n",
    "for i in swing_types:\n",
    "    print('Swing {}: {}'.format(i,round(abs(tesf_waves.loc[tesf_waves['Swing_Type']==i,'Swing_Difference']).mean(),5)))"
   ]
  },
  {
   "cell_type": "markdown",
   "metadata": {},
   "source": [
    "\n",
    "\n",
    "**How long is the average wave in terms of time?**"
   ]
  },
  {
   "cell_type": "code",
   "execution_count": 17,
   "metadata": {},
   "outputs": [],
   "source": [
    "#Finding the difference\n",
    "tesf_waves['Time_Difference']=tesf_waves['Time'].shift(-1)-tesf_waves['Time']\n",
    "#The column shows how big the swing is between the current row and the row before it\n",
    "tesf_waves['Time_Difference']=tesf_waves['Time_Difference'].shift(1)\n",
    "tesf_waves.head()\n",
    "#adding back to main df\n",
    "h1=pd.merge(h1,tesf_waves[['Time','Fractal']],on='Time',how='left')"
   ]
  },
  {
   "cell_type": "markdown",
   "metadata": {},
   "source": [
    "** Keeping in mind that the current swing dictates which swing can possibly come after it**\n",
    "- T -> E or S\n",
    "- E -> E or S\n",
    "- S -> T or F\n",
    "- F -> T or F"
   ]
  },
  {
   "cell_type": "code",
   "execution_count": 18,
   "metadata": {},
   "outputs": [
    {
     "name": "stdout",
     "output_type": "stream",
     "text": [
      "Following E\n",
      "S: 77.42%\n",
      "E: 22.58%\n",
      "\n",
      "Following S\n",
      "T: 61.17%\n",
      "F: 38.83%\n",
      "\n",
      "Following T\n",
      "S: 63.33%\n",
      "E: 36.29%\n",
      "F: 0.19%\n",
      "T: 0.19%\n",
      "\n",
      "Following F\n",
      "F: 24.63%\n",
      "T: 75.37%\n",
      "\n"
     ]
    }
   ],
   "source": [
    "Primary_Swings=['E','S','T','F']\n",
    "Swing_Type_List=tesf_waves['Swing_Type'].tolist()\n",
    "for primary_swing in Primary_Swings:\n",
    "    Following_Swing={}\n",
    "    for index,swing in enumerate(Swing_Type_List):\n",
    "        if swing ==primary_swing:\n",
    "            try:\n",
    "                Following_Swing[Swing_Type_List[index+1]]+=1\n",
    "            except KeyError:\n",
    "                Following_Swing[Swing_Type_List[index+1]]=1\n",
    "            except IndexError:\n",
    "                pass\n",
    "    print('Following {}'.format(primary_swing))\n",
    "    for swing_type in Following_Swing:\n",
    "        print('{}: {}%'.format(swing_type, round(Following_Swing[swing_type]/(sum(Following_Swing.values()))*100,2)))\n",
    "    print('')"
   ]
  },
  {
   "cell_type": "code",
   "execution_count": 19,
   "metadata": {},
   "outputs": [
    {
     "name": "stdout",
     "output_type": "stream",
     "text": [
      "Swing E: 1 days 15:12:20.322580\n",
      "Swing S: 0 days 17:28:20.948766\n",
      "Swing T: 1 days 04:53:25.293005\n",
      "Swing F: 0 days 14:03:44.175824\n"
     ]
    }
   ],
   "source": [
    "swing_types=['E','S','T','F']\n",
    "for i in swing_types:\n",
    "    print('Swing {}: {}'.format(i,abs(tesf_waves.loc[tesf_waves['Swing_Type']==i,'Time_Difference']).mean()))"
   ]
  },
  {
   "cell_type": "code",
   "execution_count": 20,
   "metadata": {},
   "outputs": [
    {
     "name": "stdout",
     "output_type": "stream",
     "text": [
      "Swing E: count                       248\n",
      "mean     1 days 15:12:20.322580\n",
      "std      1 days 15:38:04.162363\n",
      "min             0 days 01:00:00\n",
      "25%             0 days 10:00:00\n",
      "50%             0 days 23:00:00\n",
      "75%             2 days 11:30:00\n",
      "max             7 days 21:00:00\n",
      "Name: Time_Difference, dtype: object\n",
      "Swing S: count                       527\n",
      "mean     0 days 17:28:20.948766\n",
      "std      0 days 22:09:42.307299\n",
      "min             0 days 00:00:00\n",
      "25%             0 days 04:00:00\n",
      "50%             0 days 09:00:00\n",
      "75%             0 days 20:00:00\n",
      "max             4 days 15:00:00\n",
      "Name: Time_Difference, dtype: object\n",
      "Swing T: count                       529\n",
      "mean     1 days 04:53:25.293005\n",
      "std      1 days 08:27:39.738390\n",
      "min             0 days 01:00:00\n",
      "25%             0 days 08:00:00\n",
      "50%             0 days 18:00:00\n",
      "75%             1 days 12:00:00\n",
      "max            11 days 11:00:00\n",
      "Name: Time_Difference, dtype: object\n",
      "Swing F: count                       273\n",
      "mean     0 days 14:03:44.175824\n",
      "std      0 days 20:53:06.666733\n",
      "min             0 days 01:00:00\n",
      "25%             0 days 03:00:00\n",
      "50%             0 days 07:00:00\n",
      "75%             0 days 15:00:00\n",
      "max             7 days 18:00:00\n",
      "Name: Time_Difference, dtype: object\n"
     ]
    }
   ],
   "source": [
    "swing_types=['E','S','T','F']\n",
    "for i in swing_types:\n",
    "    print('Swing {}: {}'.format(i,abs(tesf_waves.loc[tesf_waves['Swing_Type']==i,'Time_Difference']).describe()))"
   ]
  },
  {
   "cell_type": "code",
   "execution_count": null,
   "metadata": {},
   "outputs": [],
   "source": []
  },
  {
   "cell_type": "markdown",
   "metadata": {},
   "source": [
    "**When looking at time of day, they're remarkably similar. Time is in UTC**"
   ]
  },
  {
   "cell_type": "code",
   "execution_count": 21,
   "metadata": {},
   "outputs": [
    {
     "data": {
      "image/png": "[encoded data removed]",
      "text/plain": [
       "<Figure size 432x288 with 1 Axes>"
      ]
     },
     "metadata": {},
     "output_type": "display_data"
    },
    {
     "data": {
      "image/png": "[encoded data removed]",
      "text/plain": [
       "<Figure size 432x288 with 1 Axes>"
      ]
     },
     "metadata": {},
     "output_type": "display_data"
    },
    {
     "data": {
      "image/png": "[encoded data removed]",
      "text/plain": [
       "<Figure size 432x288 with 1 Axes>"
      ]
     },
     "metadata": {},
     "output_type": "display_data"
    },
    {
     "data": {
      "image/png": "[encoded data removed]",
      "text/plain": [
       "<Figure size 432x288 with 1 Axes>"
      ]
     },
     "metadata": {},
     "output_type": "display_data"
    }
   ],
   "source": [
    "swing_types=['T','E','S','F']\n",
    "for i in swing_types:\n",
    "    tesf_waves['Time'].loc[tesf_waves['Swing_Type']==i].dt.hour.plot(kind='hist', grid=True)\n",
    "    plt.show()\n",
    "    plt.close()"
   ]
  },
  {
   "cell_type": "markdown",
   "metadata": {},
   "source": [
    "Day of week doesn't matter, with possibly a tiny preference for Thursdays\n",
    "This has some backing because of the conventional wisdom that Friday's tend to be faded\n",
    "Thus if Friday forms the wick for the weekly candle and the next week continues moves in that direction\n",
    "then Thursdays will mark more extremes"
   ]
  },
  {
   "cell_type": "code",
   "execution_count": 22,
   "metadata": {},
   "outputs": [
    {
     "data": {
      "text/plain": [
       "<matplotlib.axes._subplots.AxesSubplot at 0x25957b42be0>"
      ]
     },
     "execution_count": 22,
     "metadata": {},
     "output_type": "execute_result"
    },
    {
     "data": {
      "image/png": "[encoded data removed]",
      "text/plain": [
       "<Figure size 432x288 with 1 Axes>"
      ]
     },
     "metadata": {},
     "output_type": "display_data"
    }
   ],
   "source": [
    "tesf_waves['Time'].dt.dayofweek.plot(kind='hist', grid=True)"
   ]
  },
  {
   "cell_type": "code",
   "execution_count": null,
   "metadata": {},
   "outputs": [],
   "source": []
  },
  {
   "cell_type": "code",
   "execution_count": null,
   "metadata": {},
   "outputs": [],
   "source": []
  },
  {
   "cell_type": "code",
   "execution_count": 23,
   "metadata": {},
   "outputs": [],
   "source": [
    "#3) Charting\n",
    "def df_time_to_plot(df,df_time_index):\n",
    "    temp_ts=str(df.loc[df_time_index,'Time'].value)\n",
    "    temp_ts=int(temp_ts[:10])\n",
    "#     a,b,c,d=time.strftime(\"%Y,%m,%d,%H\", time.localtime(temp_ts)).split(',')\n",
    "    a,b,c,d=time.strftime(\"%Y,%m,%d,%H\", time.gmtime(temp_ts)).split(',')\n",
    "    a=int(a)\n",
    "    b=int(b)\n",
    "    c=int(c)\n",
    "    d=int(d)\n",
    "    return a,b,c,d\n",
    "\n",
    "def list_split(input_list):\n",
    "    output_list=[]\n",
    "    for i,e in enumerate(input_list):\n",
    "        if i < len(input_list)-1:\n",
    "            output_list.append([e,input_list[i+1]])\n",
    "    return output_list\n",
    "\n",
    "        \n",
    "def plot_info(df,pointa,pointb):\n",
    "    a,b,c,d=df_time_to_plot(df,pointa)\n",
    "    time_plot_one=dt.datetime(a,b,c,d)\n",
    "    a,b,c,d=df_time_to_plot(df,pointb)\n",
    "    time_plot_two=dt.datetime(a,b,c,d)\n",
    "    if df.loc[pointa,'Fractal'] == 'U':\n",
    "        price_one=df.loc[pointa,'High']\n",
    "        price_two=df.loc[pointb,'Low']        \n",
    "    else:\n",
    "        price_one=df.loc[pointa,'Low']\n",
    "        price_two=df.loc[pointb,'High']\n",
    "#     plt.plot_date([time_plot_one,time_plot_two],[price_one,price_two],fmt='-',color='cyan')\n",
    "    return time_plot_one,time_plot_two,price_one,price_two\n",
    "\n",
    "def wave_chart(df,start,end,h1_wave_list,chart_date='Real',entry_lines='Off',extra_bars=0):\n",
    "    false_date_df=pd.DataFrame()\n",
    "    false_date_df.loc[0,'Date'],false_date_df.loc[0,'Open'],false_date_df.loc[0,'High'],false_date_df.loc[0,'Low'],false_date_df.loc[0,'Close']=[None,None,None,None,None]      \n",
    "    \n",
    "    adjusted_start=start-extra_bars\n",
    "    adjusted_end=end+extra_bars\n",
    "    \n",
    "    for i in range(adjusted_end-adjusted_start+1):\n",
    "        if chart_date == 'Real':\n",
    "            false_date_df.loc[i,'Date']=df.loc[adjusted_start+i,'Time']\n",
    "        else:\n",
    "            false_date_df.loc[i,'Date']=datestack.loc[adjusted_start+i]\n",
    "        false_date_df.loc[i,'Open']=df.loc[adjusted_start+i,'Open']\n",
    "        false_date_df.loc[i,'High']=df.loc[adjusted_start+i,'High']\n",
    "        false_date_df.loc[i,'Low']=df.loc[adjusted_start+i,'Low']\n",
    "        false_date_df.loc[i,'Close']=df.loc[adjusted_start+i,'Close']\n",
    "    \n",
    "    false_date_df.Date = pd.to_datetime(false_date_df.Date)\n",
    "    h1_wave_lines=list_split(h1_wave_list)\n",
    "\n",
    "    for i in h1_wave_lines:\n",
    "        a,b,c,d=plot_info(df,i[0],i[1])\n",
    "#         print(a,b,c,d)\n",
    "        plt.plot_date([a,b],[c,d],fmt='-',color='cyan')\n",
    "    \n",
    "    a,b,c,d=plot_info(df,start,end)\n",
    "    plt.plot_date([a,b],[c,d],fmt='-',color='purple')\n",
    "    plt.show()    \n",
    "    return f1\n"
   ]
  },
  {
   "cell_type": "code",
   "execution_count": null,
   "metadata": {},
   "outputs": [],
   "source": []
  },
  {
   "cell_type": "code",
   "execution_count": 24,
   "metadata": {},
   "outputs": [
    {
     "data": {
      "text/plain": [
       "[281, 297, 361, 374, 398, 403, 440, 447, 480, 492]"
      ]
     },
     "execution_count": 24,
     "metadata": {},
     "output_type": "execute_result"
    }
   ],
   "source": [
    "wave_list[10:20]"
   ]
  },
  {
   "cell_type": "code",
   "execution_count": 25,
   "metadata": {},
   "outputs": [
    {
     "ename": "NameError",
     "evalue": "name 'cci' is not defined",
     "output_type": "error",
     "traceback": [
      "\u001b[1;31m---------------------------------------------------------------------------\u001b[0m",
      "\u001b[1;31mNameError\u001b[0m                                 Traceback (most recent call last)",
      "\u001b[1;32m<ipython-input-25-6383a4d16617>\u001b[0m in \u001b[0;36m<module>\u001b[1;34m()\u001b[0m\n\u001b[0;32m      1\u001b[0m \u001b[0mt_list\u001b[0m\u001b[1;33m=\u001b[0m\u001b[1;33m[\u001b[0m\u001b[1;36m361\u001b[0m\u001b[1;33m,\u001b[0m \u001b[1;36m374\u001b[0m\u001b[1;33m,\u001b[0m \u001b[1;36m398\u001b[0m\u001b[1;33m,\u001b[0m \u001b[1;36m403\u001b[0m\u001b[1;33m,\u001b[0m \u001b[1;36m440\u001b[0m\u001b[1;33m,\u001b[0m \u001b[1;36m447\u001b[0m\u001b[1;33m]\u001b[0m\u001b[1;33m\u001b[0m\u001b[0m\n\u001b[1;32m----> 2\u001b[1;33m \u001b[0mwave_chart\u001b[0m\u001b[1;33m(\u001b[0m\u001b[0mh1\u001b[0m\u001b[1;33m,\u001b[0m\u001b[1;36m361\u001b[0m\u001b[1;33m,\u001b[0m\u001b[1;36m447\u001b[0m\u001b[1;33m,\u001b[0m\u001b[0mt_list\u001b[0m\u001b[1;33m)\u001b[0m\u001b[1;33m\u001b[0m\u001b[0m\n\u001b[0m",
      "\u001b[1;32m<ipython-input-23-4333636c2c6f>\u001b[0m in \u001b[0;36mwave_chart\u001b[1;34m(df, start, end, h1_wave_list, chart_date, entry_lines, extra_bars)\u001b[0m\n\u001b[0;32m     49\u001b[0m         \u001b[0mfalse_date_df\u001b[0m\u001b[1;33m.\u001b[0m\u001b[0mloc\u001b[0m\u001b[1;33m[\u001b[0m\u001b[0mi\u001b[0m\u001b[1;33m,\u001b[0m\u001b[1;34m'Low'\u001b[0m\u001b[1;33m]\u001b[0m\u001b[1;33m=\u001b[0m\u001b[0mdf\u001b[0m\u001b[1;33m.\u001b[0m\u001b[0mloc\u001b[0m\u001b[1;33m[\u001b[0m\u001b[0madjusted_start\u001b[0m\u001b[1;33m+\u001b[0m\u001b[0mi\u001b[0m\u001b[1;33m,\u001b[0m\u001b[1;34m'Low'\u001b[0m\u001b[1;33m]\u001b[0m\u001b[1;33m\u001b[0m\u001b[0m\n\u001b[0;32m     50\u001b[0m         \u001b[0mfalse_date_df\u001b[0m\u001b[1;33m.\u001b[0m\u001b[0mloc\u001b[0m\u001b[1;33m[\u001b[0m\u001b[0mi\u001b[0m\u001b[1;33m,\u001b[0m\u001b[1;34m'Close'\u001b[0m\u001b[1;33m]\u001b[0m\u001b[1;33m=\u001b[0m\u001b[0mdf\u001b[0m\u001b[1;33m.\u001b[0m\u001b[0mloc\u001b[0m\u001b[1;33m[\u001b[0m\u001b[0madjusted_start\u001b[0m\u001b[1;33m+\u001b[0m\u001b[0mi\u001b[0m\u001b[1;33m,\u001b[0m\u001b[1;34m'Close'\u001b[0m\u001b[1;33m]\u001b[0m\u001b[1;33m\u001b[0m\u001b[0m\n\u001b[1;32m---> 51\u001b[1;33m         \u001b[1;32mif\u001b[0m \u001b[0mcci\u001b[0m\u001b[1;33m.\u001b[0m\u001b[0mlower\u001b[0m\u001b[1;33m(\u001b[0m\u001b[1;33m)\u001b[0m \u001b[1;33m==\u001b[0m\u001b[1;34m'on'\u001b[0m\u001b[1;33m:\u001b[0m\u001b[1;33m\u001b[0m\u001b[0m\n\u001b[0m\u001b[0;32m     52\u001b[0m             \u001b[0mfalse_date_df\u001b[0m\u001b[1;33m.\u001b[0m\u001b[0mloc\u001b[0m\u001b[1;33m[\u001b[0m\u001b[0mi\u001b[0m\u001b[1;33m,\u001b[0m\u001b[1;34m'CCI'\u001b[0m\u001b[1;33m]\u001b[0m\u001b[1;33m=\u001b[0m\u001b[0mdf\u001b[0m\u001b[1;33m.\u001b[0m\u001b[0mloc\u001b[0m\u001b[1;33m[\u001b[0m\u001b[0madjusted_start\u001b[0m\u001b[1;33m+\u001b[0m\u001b[0mi\u001b[0m\u001b[1;33m,\u001b[0m\u001b[1;34m'CCI'\u001b[0m\u001b[1;33m]\u001b[0m\u001b[1;33m\u001b[0m\u001b[0m\n\u001b[0;32m     53\u001b[0m \u001b[1;33m\u001b[0m\u001b[0m\n",
      "\u001b[1;31mNameError\u001b[0m: name 'cci' is not defined"
     ]
    }
   ],
   "source": [
    "t_list=[361, 374, 398, 403, 440, 447]\n",
    "wave_chart(h1,361,447,t_list)"
   ]
  },
  {
   "cell_type": "code",
   "execution_count": null,
   "metadata": {},
   "outputs": [],
   "source": []
  }
 ],
 "metadata": {
  "kernelspec": {
   "display_name": "Python 3",
   "language": "python",
   "name": "python3"
  },
  "language_info": {
   "codemirror_mode": {
    "name": "ipython",
    "version": 3
   },
   "file_extension": ".py",
   "mimetype": "text/x-python",
   "name": "python",
   "nbconvert_exporter": "python",
   "pygments_lexer": "ipython3",
   "version": "3.6.5"
  }
 },
 "nbformat": 4,
 "nbformat_minor": 2
}
